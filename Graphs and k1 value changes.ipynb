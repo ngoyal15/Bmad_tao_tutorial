{
 "cells": [
  {
   "cell_type": "markdown",
   "metadata": {},
   "source": [
    "# Demonstrating the first example"
   ]
  },
  {
   "cell_type": "markdown",
   "metadata": {},
   "source": [
    "##### First, we want to load our shell environment again so that Tao and Bmad executables are loaded. This file could be .profile or .bash_profile"
   ]
  },
  {
   "cell_type": "code",
   "execution_count": 1,
   "metadata": {},
   "outputs": [
    {
     "name": "stdout",
     "output_type": "stream",
     "text": [
      "-e \r\n",
      "The working directory of the Bmad Distribution tree is defined by DIST_BASE_DIR.\r\n",
      "-e $DIST_BASE_DIR = /Users/nityagoyal/Bmad/bmad_dist_2020_0623\r\n",
      "-e Sourcing User build preferences from util/dist_prefs...\r\n",
      "Sourcing common build variable set...\r\n",
      "Setting the Fortran compiler...\r\n",
      "-e \r\n",
      "Using: GNU Fortran (MacPorts gcc9 9.3.0_1) 9.3.0\r\n",
      "\r\n",
      "-e For updates, information and help - please see the Bmad Distribution Wiki at:\r\n",
      "\r\n",
      "-e      https://wiki.classe.cornell.edu/ACC/ACL/OffsiteDoc\r\n",
      "\r\n"
     ]
    }
   ],
   "source": [
    "!source /Users/nityagoyal/.profile"
   ]
  },
  {
   "cell_type": "markdown",
   "metadata": {},
   "source": [
    "###### Over here, we are loading the lattice file that we designed (the load command allows us to edit it as well). An overview of what is happening in this example:"
   ]
  },
  {
   "cell_type": "markdown",
   "metadata": {},
   "source": [
    "We first define our reference energy in the lattice file. The default value as entered here is 10 MeV.\n",
    "\n",
    "Next, we define the geometry of the lattice. It can be open, which would be the case for 1-pass accelerating Linacs or it could be closed like a storage ring. Then we define the drift, the quadropoles, and the line (or the order through which the beam line passes). \n",
    "\n",
    "For this case, since we have a single cell FODO lattice, we would have 2 quadropole magnets with opposite strengths in order to account for focusing and defocusing.\n",
    "\n",
    "The use command basically tells us which line to use to construct the lattice"
   ]
  },
  {
   "cell_type": "code",
   "execution_count": 2,
   "metadata": {},
   "outputs": [
    {
     "ename": "SyntaxError",
     "evalue": "invalid syntax (<ipython-input-2-109b36342274>, line 5)",
     "output_type": "error",
     "traceback": [
      "\u001b[0;36m  File \u001b[0;32m\"<ipython-input-2-109b36342274>\"\u001b[0;36m, line \u001b[0;32m5\u001b[0m\n\u001b[0;31m    d: drift, L = 0.3\u001b[0m\n\u001b[0m            ^\u001b[0m\n\u001b[0;31mSyntaxError\u001b[0m\u001b[0;31m:\u001b[0m invalid syntax\n"
     ]
    }
   ],
   "source": [
    "# %load prac.bmad\n",
    "beginning[e_tot] = 10e6\n",
    "\n",
    "parameter[geometry] = closed\n",
    "d: drift, L = 0.3\n",
    "q1: quadrupole, L = 0.4, k1 = 3\n",
    "q2: q1, k1 = -q1[k1]\n",
    "lat: line = (d, q1, d, q2)\n",
    "use, lat\n"
   ]
  },
  {
   "cell_type": "markdown",
   "metadata": {},
   "source": [
    "This is the initialization file that uses the Fortran namelist syntax to create an initialization file. We specified the number of universes and the design lattice files that needs to be loaded."
   ]
  },
  {
   "cell_type": "code",
   "execution_count": null,
   "metadata": {},
   "outputs": [],
   "source": [
    "# %load tao.init\n",
    "&tao_design_lattice\n",
    "\tn_universes = 1\n",
    "\tdesign_lattice(1)%file = \"prac.bmad\"\n",
    "/\n"
   ]
  },
  {
   "cell_type": "markdown",
   "metadata": {},
   "source": [
    "Now we'll run the initalization file in tao. The PGPlot window should open up in X11 Quartz."
   ]
  },
  {
   "cell_type": "code",
   "execution_count": null,
   "metadata": {},
   "outputs": [],
   "source": [
    "!tao -init tao.init"
   ]
  },
  {
   "cell_type": "markdown",
   "metadata": {},
   "source": [
    "### Conclusion\n",
    "###### By careful observation, it was seen that beyond a particular value of k1,  the curves weren't visible. The reason is still unclear; however, it was seen that if the value of L decreases for both drift and quadrupole, the graph plots can be seen again."
   ]
  }
 ],
 "metadata": {
  "kernelspec": {
   "display_name": "Python 3",
   "language": "python",
   "name": "python3"
  },
  "language_info": {
   "codemirror_mode": {
    "name": "ipython",
    "version": 3
   },
   "file_extension": ".py",
   "mimetype": "text/x-python",
   "name": "python",
   "nbconvert_exporter": "python",
   "pygments_lexer": "ipython3",
   "version": "3.7.6"
  }
 },
 "nbformat": 4,
 "nbformat_minor": 4
}
